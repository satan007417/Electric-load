{
 "cells": [
  {
   "cell_type": "code",
   "execution_count": 1,
   "metadata": {},
   "outputs": [],
   "source": [
    "import pandas as pd\n",
    "import numpy as np\n",
    "import datetime as dt\n",
    "pd.options.mode.chained_assignment = None\n",
    "\n",
    "import xgboost as xgb\n",
    "from xgboost import plot_importance\n",
    "from matplotlib import pyplot as plt\n",
    "from sklearn.metrics import mean_squared_error\n",
    "from sklearn.multioutput import MultiOutputRegressor"
   ]
  },
  {
   "cell_type": "code",
   "execution_count": null,
   "metadata": {},
   "outputs": [],
   "source": [
    "def xgb(index):\n",
    "    data = pd.read_csv('Dajiang_processed_20200618.csv')\n",
    "    # data\n",
    "    data['Date_Time'] = pd.to_datetime(data['Date_Time'], errors='coerce')\n",
    "    data['Minute'] = data['Date_Time'].dt.minute\n",
    "    # data\n",
    "\n",
    "    # data.loc[data['Date'].isin(['2018/1/1'])]\n",
    "    data = data.set_index(['Date_Time'])\n",
    "\n",
    "    if index == 1:\n",
    "        df1 = data.loc['2018-02-01 00:15:00':'2018-03-01 00:00:00']\n",
    "        df2 = data.loc['2018-03-01 00:15:00':'2019-01-01 00:00:00']\n",
    "        df3 = data.loc['2018-01-01 00:15:00':'2018-02-01 00:00:00']\n",
    "    if index == 2:\n",
    "        df1 = data.loc['2018-01-01 00:15:00':'2018-02-01 00:00:00']\n",
    "        df2 = data.loc['2018-02-22 00:15:00':'2019-01-01 00:00:00']\n",
    "        df3 = data.loc['2018-01-25 00:15:00':'2018-03-01 00:00:00']\n",
    "    if index == 3:\n",
    "        df1 = data.loc['2018-01-01 00:15:00':'2018-03-01 00:00:00']\n",
    "        df2 = data.loc['2018-03-25 00:15:00':'2019-01-01 00:00:00']\n",
    "        df3 = data.loc['2018-02-22 00:15:00':'2018-04-01 00:00:00']\n",
    "    if index == 4:\n",
    "        df1 = data.loc['2018-01-01 00:15:00':'2018-04-01 00:00:00']\n",
    "        df2 = data.loc['2018-04-24 00:15:00':'2019-01-01 00:00:00']\n",
    "        df3 = data.loc['2018-03-25 00:15:00':'2018-05-01 00:00:00']\n",
    "    if index == 5:\n",
    "        df1 = data.loc['2018-01-01 00:15:00':'2018-05-01 00:00:00']\n",
    "        df2 = data.loc['2018-05-25 00:15:00':'2019-01-01 00:00:00']\n",
    "        df3 = data.loc['2018-04-24 00:15:00':'2018-06-01 00:00:00']\n",
    "    if index == 6:\n",
    "        df1 = data.loc['2018-01-01 00:15:00':'2018-06-01 00:00:00']\n",
    "        df2 = data.loc['2018-06-24 00:15:00':'2019-01-01 00:00:00']\n",
    "        df3 = data.loc['2018-05-25 00:15:00':'2018-07-01 00:00:00']\n",
    "    if index == 7:\n",
    "        df1 = data.loc['2018-01-01 00:15:00':'2018-07-01 00:00:00']\n",
    "        df2 = data.loc['2018-07-25 00:15:00':'2019-01-01 00:00:00']\n",
    "        df3 = data.loc['2018-06-24 00:15:00':'2018-08-01 00:00:00']\n",
    "    if index == 8:\n",
    "        df1 = data.loc['2018-01-01 00:15:00':'2018-08-01 00:00:00']\n",
    "        df2 = data.loc['2018-08-25 00:15:00':'2019-01-01 00:00:00']\n",
    "        df3 = data.loc['2018-07-25 00:15:00':'2018-09-01 00:00:00']\n",
    "    if index == 9:\n",
    "        df1 = data.loc['2018-01-01 00:15:00':'2018-09-01 00:00:00']\n",
    "        df2 = data.loc['2018-09-24 00:15:00':'2019-01-01 00:00:00']\n",
    "        df3 = data.loc['2018-08-25 00:15:00':'2018-10-01 00:00:00']\n",
    "    if index == 10:\n",
    "        df1 = data.loc['2018-01-01 00:15:00':'2018-10-01 00:00:00']\n",
    "        df2 = data.loc['2018-10-25 00:15:00':'2019-01-01 00:00:00']\n",
    "        df3 = data.loc['2018-09-24 00:15:00':'2018-11-01 00:00:00']\n",
    "    if index == 11:\n",
    "        df1 = data.loc['2018-01-01 00:15:00':'2018-11-01 00:00:00']\n",
    "        df2 = data.loc['2018-11-24 00:15:00':'2019-01-01 00:00:00']\n",
    "        df3 = data.loc['2018-10-25 00:15:00':'2018-12-01 00:00:00']\n",
    "    if index == 12:\n",
    "        df1 = data.loc['2018-01-01 00:15:00':'2018-10-01 00:00:00']\n",
    "        df2 = data.loc['2018-10-01 00:15:00':'2018-12-01 00:00:00']\n",
    "        df3 = data.loc['2018-11-24 00:15:00':'2019-01-01 00:00:00']\n",
    "\n",
    "    df1_2 = df1[['Period_Transform', 'Temp_H', 'A', 'B', 'IsHoliday', 'Measure']]\n",
    "    df1_2_forcast = df1[['Period_Transform', 'Temp_H', 'A', 'B', 'IsHoliday', 'Measure', 'Hour', 'Minute']]\n",
    "\n",
    "    df4_12 = df2[['Period_Transform', 'Temp_H', 'A', 'B', 'IsHoliday', 'Measure']]\n",
    "    df4_12_forcast = df2[['Period_Transform', 'Temp_H', 'A', 'B', 'IsHoliday', 'Measure', 'Hour', 'Minute']]\n",
    "\n",
    "    df_3 = df3[['Period_Transform', 'Temp_H', 'A', 'B', 'IsHoliday', 'Measure']]\n",
    "    df_3_forcast = df3[['Period_Transform', 'Temp_H', 'A', 'B', 'IsHoliday', 'Measure', 'Hour', 'Minute']]\n",
    "\n",
    "    #normalization\n",
    "    dfs_max = 515.6\n",
    "    normalized_dfs1_2 = df1_2 / dfs_max\n",
    "    nor_df1_2_forcast = df1_2_forcast / dfs_max\n",
    "\n",
    "    normalized_df4_12 = df4_12 / dfs_max\n",
    "    nor_df4_12_forcast = df4_12_forcast / dfs_max\n",
    "\n",
    "    normalized_df_3 = df_3 / dfs_max\n",
    "    nor_df_3_forcast = df_3_forcast / dfs_max\n",
    "\n",
    "    dfs_X1 = nor_df1_2_forcast[['Period_Transform', 'Temp_H', 'A', 'B', 'IsHoliday', 'Hour', 'Minute']]\n",
    "    dfs_y1 = nor_df1_2_forcast[['Measure']]\n",
    "\n",
    "    dfs_X2 = nor_df4_12_forcast[['Period_Transform', 'Temp_H', 'A', 'B', 'IsHoliday', 'Hour', 'Minute']]\n",
    "    dfs_y2 = nor_df4_12_forcast[['Measure']]\n",
    "\n",
    "    dfs_TX = nor_df_3_forcast[['Period_Transform', 'Temp_H', 'A', 'B', 'IsHoliday', 'Hour', 'Minute']]\n",
    "    dfs_Ty = nor_df_3_forcast[['Measure']]\n",
    "\n",
    "    normalized_dfs1_2 = normalized_dfs1_2.reset_index(drop=True)\n",
    "    normalized_df4_12 = normalized_df4_12.reset_index(drop=True)\n",
    "    normalized_df_3 = normalized_df_3.reset_index(drop=True)\n",
    "\n",
    "    dfs_X1 = dfs_X1.reset_index(drop=True)\n",
    "    dfs_y1 = dfs_y1.reset_index(drop=True)\n",
    "\n",
    "    dfs_X2 = dfs_X2.reset_index(drop=True)\n",
    "    dfs_y2 = dfs_y2.reset_index(drop=True)\n",
    "\n",
    "    dfs_TX = dfs_TX.reset_index(drop=True)\n",
    "    dfs_Ty = dfs_Ty.reset_index(drop=True)\n",
    "\n",
    "    X1 = []\n",
    "    end = len(normalized_dfs1_2)-672\n",
    "    for i in range(0,end,96):\n",
    "        period_7 = normalized_dfs1_2.iloc[i:672+i, :].to_numpy()\n",
    "        forcast_info = dfs_X1.iloc[671+i:767+i, :].to_numpy()\n",
    "\n",
    "        period_7_2d = np.reshape(period_7, (-1))\n",
    "        forcast_info_2d = np.reshape(forcast_info, (-1))\n",
    "\n",
    "        r = np.concatenate([period_7_2d, forcast_info_2d])\n",
    "        X1.append(r.flatten())\n",
    "\n",
    "    X1 = np.array(X1)\n",
    "\n",
    "    X2 = []\n",
    "    end = len(normalized_df4_12)-672\n",
    "    for i in range(0,end,96):\n",
    "        period_7 = normalized_df4_12.iloc[i:672+i, :].to_numpy()\n",
    "        forcast_info = dfs_X2.iloc[671+i:767+i, :].to_numpy()\n",
    "\n",
    "        period_7_2d = np.reshape(period_7, (-1))\n",
    "        forcast_info_2d = np.reshape(forcast_info, (-1))\n",
    "\n",
    "        r = np.concatenate([period_7_2d, forcast_info_2d])\n",
    "        X2.append(r.flatten())\n",
    "\n",
    "    X2 = np.array(X2)\n",
    "\n",
    "    X = np.concatenate([X1, X2])\n",
    "\n",
    "    y1 = []\n",
    "    end = len(normalized_dfs1_2)-672\n",
    "    for i in range(0,end,96):\n",
    "        forcast_info = dfs_y1.iloc[671+i:767+i, :].to_numpy()\n",
    "\n",
    "        forcast_info_2d = np.reshape(forcast_info, (-1))\n",
    "\n",
    "        y1.append(forcast_info_2d.flatten())\n",
    "\n",
    "    y1 = np.array(y1)\n",
    "\n",
    "    y2 = []\n",
    "    end = len(normalized_df4_12)-672\n",
    "    for i in range(0,end,96):\n",
    "        forcast_info = dfs_y2.iloc[671+i:767+i, :].to_numpy()\n",
    "\n",
    "        forcast_info_2d = np.reshape(forcast_info, (-1))\n",
    "\n",
    "        y2.append(forcast_info_2d.flatten())\n",
    "\n",
    "    y2 = np.array(y2)\n",
    "\n",
    "    y = np.concatenate([y1, y2])\n",
    "\n",
    "    TX = []\n",
    "    end = len(normalized_df_3)-672\n",
    "    for i in range(0,end,96):\n",
    "        period_7 = normalized_df_3.iloc[i:672+i, :].to_numpy()\n",
    "        forcast_info = dfs_TX.iloc[671+i:767+i, :].to_numpy()\n",
    "\n",
    "        period_7_2d = np.reshape(period_7, (-1))\n",
    "        forcast_info_2d = np.reshape(forcast_info, (-1))\n",
    "\n",
    "        r = np.concatenate([period_7_2d, forcast_info_2d])\n",
    "        TX.append(r.flatten())\n",
    "\n",
    "    TX = np.array(TX)\n",
    "\n",
    "    Ty = []\n",
    "    end = len(normalized_df_3)-672\n",
    "    for i in range(0,end,96):\n",
    "        forcast_info = dfs_Ty.iloc[671+i:767+i, :].to_numpy()\n",
    "\n",
    "        forcast_info_2d = np.reshape(forcast_info, (-1))\n",
    "\n",
    "        Ty.append(forcast_info_2d.flatten())\n",
    "\n",
    "    Ty = np.array(Ty)\n",
    "\n",
    "    X_train = X\n",
    "    y_train = y\n",
    "\n",
    "    X_test = TX\n",
    "    y_test = Ty\n",
    "\n",
    "    xg_reg = MultiOutputRegressor(xgb.XGBRegressor(objective ='reg:squarederror', booster = 'gblinear',\n",
    "                              reg_lambda = 0.000001, learning_rate = 0.002, n_estimators = 1250))\n",
    "\n",
    "    xg_reg.fit(X_train,y_train)\n",
    "\n",
    "    preds = xg_reg.predict(X_test)\n",
    "\n",
    "    y_test = y_test * dfs_max\n",
    "    preds = preds * dfs_max\n",
    "\n",
    "    rmse = np.sqrt(mean_squared_error(y_test, preds))\n",
    "    print(\"RMSE: %f\" % (rmse))\n",
    "    mape = np.mean(np.abs((preds - y_test) / y_test)) * 100\n",
    "    print(\"MAPE: %f\" % (mape))"
   ]
  },
  {
   "cell_type": "code",
   "execution_count": null,
   "metadata": {},
   "outputs": [],
   "source": []
  },
  {
   "cell_type": "code",
   "execution_count": null,
   "metadata": {},
   "outputs": [],
   "source": [
    "# RMSE: 21.647724\n",
    "# MAPE: 6.877890"
   ]
  },
  {
   "cell_type": "code",
   "execution_count": 35,
   "metadata": {},
   "outputs": [],
   "source": [
    "# data = pd.read_csv('Dajiang_processed_20200618.csv')\n",
    "# # data"
   ]
  },
  {
   "cell_type": "code",
   "execution_count": 36,
   "metadata": {},
   "outputs": [],
   "source": [
    "# data['Date_Time'] = pd.to_datetime(data['Date_Time'], errors='coerce')\n",
    "# data['Minute'] = data['Date_Time'].dt.minute\n",
    "# # data"
   ]
  },
  {
   "cell_type": "code",
   "execution_count": null,
   "metadata": {},
   "outputs": [],
   "source": []
  },
  {
   "cell_type": "code",
   "execution_count": 4,
   "metadata": {},
   "outputs": [],
   "source": [
    "# # data.loc[data['Date'].isin(['2018/1/1'])]\n",
    "# data = data.set_index(['Date_Time'])\n",
    "# df1 = data.loc['2018-01-01 00:15:00':'2018-03-01 00:00:00']\n",
    "# df2 = data.loc['2018-03-25 00:15:00':'2019-01-01 00:00:00']\n",
    "# df3 = data.loc['2018-02-22 00:15:00':'2018-04-01 00:00:00']"
   ]
  },
  {
   "cell_type": "code",
   "execution_count": 33,
   "metadata": {},
   "outputs": [],
   "source": [
    "# i=0\n",
    "# df1.iloc[671+i:767+i, :]\n",
    "# df1.iloc[0:671, :]\n",
    "# l = len(df1)\n",
    "# l1\n",
    "# df3"
   ]
  },
  {
   "cell_type": "code",
   "execution_count": 6,
   "metadata": {},
   "outputs": [],
   "source": [
    "# df1_2 = df1[['Period_Transform', 'Temp_H', 'A', 'B', 'IsHoliday', 'Measure']]\n",
    "# df1_2_forcast = df1[['Period_Transform', 'Temp_H', 'A', 'B', 'IsHoliday', 'Measure', 'Hour', 'Minute']]\n",
    "\n",
    "# df4_12 = df2[['Period_Transform', 'Temp_H', 'A', 'B', 'IsHoliday', 'Measure']]\n",
    "# df4_12_forcast = df2[['Period_Transform', 'Temp_H', 'A', 'B', 'IsHoliday', 'Measure', 'Hour', 'Minute']]\n",
    "\n",
    "# df_3 = df3[['Period_Transform', 'Temp_H', 'A', 'B', 'IsHoliday', 'Measure']]\n",
    "# df_3_forcast = df3[['Period_Transform', 'Temp_H', 'A', 'B', 'IsHoliday', 'Measure', 'Hour', 'Minute']]"
   ]
  },
  {
   "cell_type": "code",
   "execution_count": 37,
   "metadata": {},
   "outputs": [],
   "source": [
    "# df4_12_forcast"
   ]
  },
  {
   "cell_type": "code",
   "execution_count": 8,
   "metadata": {},
   "outputs": [],
   "source": [
    "# #normalization\n",
    "# dfs_max = 515.6\n",
    "# normalized_dfs1_2 = df1_2 / dfs_max\n",
    "# nor_df1_2_forcast = df1_2_forcast / dfs_max\n",
    "\n",
    "# normalized_df4_12 = df4_12 / dfs_max\n",
    "# nor_df4_12_forcast = df4_12_forcast / dfs_max\n",
    "\n",
    "# normalized_df_3 = df_3 / dfs_max\n",
    "# nor_df_3_forcast = df_3_forcast / dfs_max"
   ]
  },
  {
   "cell_type": "code",
   "execution_count": 38,
   "metadata": {},
   "outputs": [],
   "source": [
    "# normalized_df_3"
   ]
  },
  {
   "cell_type": "code",
   "execution_count": null,
   "metadata": {},
   "outputs": [],
   "source": []
  },
  {
   "cell_type": "code",
   "execution_count": 10,
   "metadata": {},
   "outputs": [],
   "source": [
    "# normalized_df4_12"
   ]
  },
  {
   "cell_type": "code",
   "execution_count": 11,
   "metadata": {},
   "outputs": [],
   "source": [
    "# dfs_X1 = nor_df1_2_forcast[['Period_Transform', 'Temp_H', 'A', 'B', 'IsHoliday', 'Hour', 'Minute']]\n",
    "# dfs_y1 = nor_df1_2_forcast[['Measure']]\n",
    "\n",
    "# dfs_X2 = nor_df4_12_forcast[['Period_Transform', 'Temp_H', 'A', 'B', 'IsHoliday', 'Hour', 'Minute']]\n",
    "# dfs_y2 = nor_df4_12_forcast[['Measure']]\n",
    "\n",
    "# dfs_TX = nor_df_3_forcast[['Period_Transform', 'Temp_H', 'A', 'B', 'IsHoliday', 'Hour', 'Minute']]\n",
    "# dfs_Ty = nor_df_3_forcast[['Measure']]"
   ]
  },
  {
   "cell_type": "code",
   "execution_count": 12,
   "metadata": {},
   "outputs": [],
   "source": [
    "# normalized_dfs1_2 = normalized_dfs1_2.reset_index(drop=True)\n",
    "# normalized_df4_12 = normalized_df4_12.reset_index(drop=True)\n",
    "# normalized_df_3 = normalized_df_3.reset_index(drop=True)\n",
    "\n",
    "# dfs_X1 = dfs_X1.reset_index(drop=True)\n",
    "# dfs_y1 = dfs_y1.reset_index(drop=True)\n",
    "\n",
    "# dfs_X2 = dfs_X2.reset_index(drop=True)\n",
    "# dfs_y2 = dfs_y2.reset_index(drop=True)\n",
    "\n",
    "# dfs_TX = dfs_TX.reset_index(drop=True)\n",
    "# dfs_Ty = dfs_Ty.reset_index(drop=True)"
   ]
  },
  {
   "cell_type": "code",
   "execution_count": 39,
   "metadata": {},
   "outputs": [],
   "source": [
    "# normalized_df_3"
   ]
  },
  {
   "cell_type": "code",
   "execution_count": 40,
   "metadata": {},
   "outputs": [],
   "source": [
    "# dfs_Ty"
   ]
  },
  {
   "cell_type": "code",
   "execution_count": 15,
   "metadata": {},
   "outputs": [],
   "source": [
    "# X1 = []\n",
    "# end = len(normalized_dfs1_2)-672\n",
    "# for i in range(0,end,96):\n",
    "#     period_7 = normalized_dfs1_2.iloc[i:672+i, :].to_numpy()\n",
    "#     forcast_info = dfs_X1.iloc[671+i:767+i, :].to_numpy()\n",
    "    \n",
    "#     period_7_2d = np.reshape(period_7, (-1))\n",
    "#     forcast_info_2d = np.reshape(forcast_info, (-1))\n",
    "    \n",
    "#     r = np.concatenate([period_7_2d, forcast_info_2d])\n",
    "#     X1.append(r.flatten())\n",
    "    \n",
    "# X1 = np.array(X1)\n",
    "\n",
    "# X2 = []\n",
    "# end = len(normalized_df4_12)-672\n",
    "# for i in range(0,end,96):\n",
    "#     period_7 = normalized_df4_12.iloc[i:672+i, :].to_numpy()\n",
    "#     forcast_info = dfs_X2.iloc[671+i:767+i, :].to_numpy()\n",
    "    \n",
    "#     period_7_2d = np.reshape(period_7, (-1))\n",
    "#     forcast_info_2d = np.reshape(forcast_info, (-1))\n",
    "    \n",
    "#     r = np.concatenate([period_7_2d, forcast_info_2d])\n",
    "#     X2.append(r.flatten())\n",
    "    \n",
    "# X2 = np.array(X2)\n",
    "\n",
    "# X = np.concatenate([X1, X2])"
   ]
  },
  {
   "cell_type": "code",
   "execution_count": 18,
   "metadata": {},
   "outputs": [
    {
     "data": {
      "text/plain": [
       "(327, 4704)"
      ]
     },
     "execution_count": 18,
     "metadata": {},
     "output_type": "execute_result"
    }
   ],
   "source": [
    "# X.shape"
   ]
  },
  {
   "cell_type": "code",
   "execution_count": 19,
   "metadata": {},
   "outputs": [],
   "source": [
    "# y1 = []\n",
    "# end = len(normalized_dfs1_2)-672\n",
    "# for i in range(0,end,96):\n",
    "#     forcast_info = dfs_y1.iloc[671+i:767+i, :].to_numpy()\n",
    "    \n",
    "#     forcast_info_2d = np.reshape(forcast_info, (-1))\n",
    "    \n",
    "#     y1.append(forcast_info_2d.flatten())\n",
    "    \n",
    "# y1 = np.array(y1)\n",
    "\n",
    "# y2 = []\n",
    "# end = len(normalized_df4_12)-672\n",
    "# for i in range(0,end,96):\n",
    "#     forcast_info = dfs_y2.iloc[671+i:767+i, :].to_numpy()\n",
    "    \n",
    "#     forcast_info_2d = np.reshape(forcast_info, (-1))\n",
    "    \n",
    "#     y2.append(forcast_info_2d.flatten())\n",
    "    \n",
    "# y2 = np.array(y2)\n",
    "\n",
    "# y = np.concatenate([y1, y2])"
   ]
  },
  {
   "cell_type": "code",
   "execution_count": 32,
   "metadata": {},
   "outputs": [
    {
     "data": {
      "text/plain": [
       "(327, 96)"
      ]
     },
     "execution_count": 32,
     "metadata": {},
     "output_type": "execute_result"
    }
   ],
   "source": [
    "# y.shape"
   ]
  },
  {
   "cell_type": "code",
   "execution_count": 23,
   "metadata": {},
   "outputs": [],
   "source": [
    "# TX = []\n",
    "# end = len(normalized_df_3)-672\n",
    "# for i in range(0,end,96):\n",
    "#     period_7 = normalized_df_3.iloc[i:672+i, :].to_numpy()\n",
    "#     forcast_info = dfs_TX.iloc[671+i:767+i, :].to_numpy()\n",
    "    \n",
    "#     period_7_2d = np.reshape(period_7, (-1))\n",
    "#     forcast_info_2d = np.reshape(forcast_info, (-1))\n",
    "    \n",
    "#     r = np.concatenate([period_7_2d, forcast_info_2d])\n",
    "#     TX.append(r.flatten())\n",
    "    \n",
    "# TX = np.array(TX)"
   ]
  },
  {
   "cell_type": "code",
   "execution_count": 30,
   "metadata": {},
   "outputs": [
    {
     "data": {
      "text/plain": [
       "(31, 4704)"
      ]
     },
     "execution_count": 30,
     "metadata": {},
     "output_type": "execute_result"
    }
   ],
   "source": [
    "# TX.shape"
   ]
  },
  {
   "cell_type": "code",
   "execution_count": 25,
   "metadata": {},
   "outputs": [],
   "source": [
    "# Ty = []\n",
    "# end = len(normalized_df_3)-672\n",
    "# for i in range(0,end,96):\n",
    "#     forcast_info = dfs_Ty.iloc[671+i:767+i, :].to_numpy()\n",
    "    \n",
    "#     forcast_info_2d = np.reshape(forcast_info, (-1))\n",
    "    \n",
    "#     Ty.append(forcast_info_2d.flatten())\n",
    "    \n",
    "# Ty = np.array(Ty)"
   ]
  },
  {
   "cell_type": "code",
   "execution_count": 26,
   "metadata": {},
   "outputs": [
    {
     "data": {
      "text/plain": [
       "(31, 96)"
      ]
     },
     "execution_count": 26,
     "metadata": {},
     "output_type": "execute_result"
    }
   ],
   "source": [
    "# Ty.shape"
   ]
  },
  {
   "cell_type": "code",
   "execution_count": 27,
   "metadata": {},
   "outputs": [
    {
     "data": {
      "text/plain": [
       "31.0"
      ]
     },
     "execution_count": 27,
     "metadata": {},
     "output_type": "execute_result"
    }
   ],
   "source": [
    "# end = 3647-671\n",
    "# end/96"
   ]
  },
  {
   "cell_type": "code",
   "execution_count": 28,
   "metadata": {},
   "outputs": [],
   "source": [
    "# X_train = X\n",
    "# y_train = y\n",
    "\n",
    "# X_test = TX\n",
    "# y_test = Ty"
   ]
  },
  {
   "cell_type": "code",
   "execution_count": 25,
   "metadata": {},
   "outputs": [
    {
     "name": "stderr",
     "output_type": "stream",
     "text": [
      "C:\\Users\\IDSL\\anaconda3\\lib\\site-packages\\xgboost\\core.py:444: UserWarning: Use subset (sliced data) of np.ndarray is not recommended because it will generate extra copies and increase memory consumption\n",
      "  \"because it will generate extra copies and increase \" +\n"
     ]
    }
   ],
   "source": [
    "# xg_reg = MultiOutputRegressor(xgb.XGBRegressor(objective ='reg:squarederror', booster = 'gblinear',\n",
    "#                           reg_lambda = 0.000001, learning_rate = 0.002, n_estimators = 4200))\n",
    "\n",
    "# xg_reg.fit(X_train,y_train)\n",
    "\n",
    "# preds = xg_reg.predict(X_test)"
   ]
  },
  {
   "cell_type": "code",
   "execution_count": 26,
   "metadata": {},
   "outputs": [],
   "source": [
    "# y_test = y_test * dfs_max\n",
    "# preds = preds * dfs_max"
   ]
  },
  {
   "cell_type": "code",
   "execution_count": 27,
   "metadata": {},
   "outputs": [
    {
     "name": "stdout",
     "output_type": "stream",
     "text": [
      "RMSE: 21.647724\n",
      "MAPE: 6.877890\n"
     ]
    }
   ],
   "source": [
    "# rmse = np.sqrt(mean_squared_error(y_test, preds))\n",
    "# print(\"RMSE: %f\" % (rmse))\n",
    "# mape = np.mean(np.abs((preds - y_test) / y_test)) * 100\n",
    "# print(\"MAPE: %f\" % (mape))"
   ]
  },
  {
   "cell_type": "code",
   "execution_count": 28,
   "metadata": {},
   "outputs": [
    {
     "name": "stdout",
     "output_type": "stream",
     "text": [
      "RMSE: 21.647724\n",
      "MAPE: 6.877890\n"
     ]
    }
   ],
   "source": [
    "# rmse = np.sqrt(mean_squared_error(y_test, preds))\n",
    "# print(\"RMSE: %f\" % (rmse))\n",
    "# mape = np.mean(np.abs((preds - y_test) / y_test)) * 100\n",
    "# print(\"MAPE: %f\" % (mape))"
   ]
  }
 ],
 "metadata": {
  "kernelspec": {
   "display_name": "Python 3",
   "language": "python",
   "name": "python3"
  },
  "language_info": {
   "codemirror_mode": {
    "name": "ipython",
    "version": 3
   },
   "file_extension": ".py",
   "mimetype": "text/x-python",
   "name": "python",
   "nbconvert_exporter": "python",
   "pygments_lexer": "ipython3",
   "version": "3.6.7"
  }
 },
 "nbformat": 4,
 "nbformat_minor": 4
}
